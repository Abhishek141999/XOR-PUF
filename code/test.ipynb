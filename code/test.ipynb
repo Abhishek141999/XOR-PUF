{
 "cells": [
  {
   "cell_type": "code",
   "execution_count": 1,
   "id": "4cdc7db9",
   "metadata": {},
   "outputs": [],
   "source": [
    "import numpy as np\n",
    "from sklearn.model_selection import train_test_split\n",
    "\n",
    "from matplotlib import pyplot as plt\n",
    "import random"
   ]
  },
  {
   "cell_type": "code",
   "execution_count": 21,
   "id": "966197b0",
   "metadata": {},
   "outputs": [
    {
     "name": "stdout",
     "output_type": "stream",
     "text": [
      "(1000, 9)\n",
      "(9000, 9)\n"
     ]
    }
   ],
   "source": [
    "data = np.loadtxt( \"train.dat\" )\n",
    "\n",
    "def createFeatures( X ):\n",
    "    print(X.shape)\n",
    "\n",
    "data_trn, data_tst = train_test_split( data, train_size = 1000 )\n",
    "\n",
    "X_raw = data_trn[:,:-1]\n",
    "X_raw = np.column_stack((X_raw, np.ones(X_raw.shape[0])))\n",
    "# print(X_raw)\n",
    "X = createFeatures( X_raw )\n",
    "y = data_trn[:,-1]\n",
    "\n",
    "y = np.where( y > 0, 1, -1 )\n",
    "\n",
    "X_t_raw = data_tst[:,:-1]\n",
    "X_t = np.column_stack((X_t_raw, np.ones(X_t_raw.shape[0])))\n",
    "X_t = createFeatures( X_t )\n",
    "y_t = data_tst[:,-1]\n",
    "\n",
    "y_t = np.where( y_t > 0, 1, -1 )"
   ]
  }
 ],
 "metadata": {
  "kernelspec": {
   "display_name": "Python 3 (ipykernel)",
   "language": "python",
   "name": "python3"
  },
  "language_info": {
   "codemirror_mode": {
    "name": "ipython",
    "version": 3
   },
   "file_extension": ".py",
   "mimetype": "text/x-python",
   "name": "python",
   "nbconvert_exporter": "python",
   "pygments_lexer": "ipython3",
   "version": "3.10.5"
  }
 },
 "nbformat": 4,
 "nbformat_minor": 5
}
