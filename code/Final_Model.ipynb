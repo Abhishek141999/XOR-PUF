{
 "cells": [
  {
   "cell_type": "code",
   "execution_count": 1,
   "id": "32924f25",
   "metadata": {},
   "outputs": [],
   "source": [
    "import numpy as np\n",
    "from sklearn.model_selection import train_test_split\n",
    "import sklearn\n",
    "from sklearn.svm import LinearSVC\n",
    "import time as t\n",
    "import random"
   ]
  },
  {
   "cell_type": "code",
   "execution_count": 2,
   "id": "3c7866e4",
   "metadata": {},
   "outputs": [],
   "source": [
    "def get_renamed_labels( X ):\n",
    "    return np.cumprod( np.flip( 2 * X - 1 , axis = 1 ), axis = 1 )\n",
    "\n",
    "def add_bias(X):\n",
    "    tmp = np.ones(X.shape[0])\n",
    "    tmp = np.resize(tmp, (X.shape[0], 1)) \n",
    "    X = np.hstack((X,tmp))\n",
    "    return X\n",
    "\n",
    "def get_features(X):\n",
    "    tmp = []\n",
    "    for i in range(X.shape[0]):\n",
    "        a = X[i]\n",
    "        l = []\n",
    "        for j in range(9):\n",
    "            for k in range(9):\n",
    "                l.extend(a*X[i][k]*X[i][j])\n",
    "        tmp.append(l)\n",
    "    return tmp\n",
    "    "
   ]
  },
  {
   "cell_type": "code",
   "execution_count": 3,
   "id": "bc773343",
   "metadata": {},
   "outputs": [],
   "source": [
    "data = np.loadtxt( \"secret_train.dat\" )\n",
    "data_test = np.loadtxt('test.dat')\n",
    "# data_secret_train = np.loadtxt('secret_train.dat')"
   ]
  },
  {
   "cell_type": "code",
   "execution_count": 4,
   "id": "64aa9cfb",
   "metadata": {},
   "outputs": [],
   "source": [
    "x_train = data[:,:-1]\n",
    "y_train = data[:,-1]\n",
    "x_train = get_renamed_labels(x_train)\n",
    "x_train = add_bias(x_train)\n",
    "x_train = np.array(get_features(x_train))\n"
   ]
  },
  {
   "cell_type": "code",
   "execution_count": 5,
   "id": "15d89d47",
   "metadata": {},
   "outputs": [],
   "source": [
    "x_test = data_test[:,:-1]\n",
    "y_test = data_test[:,-1]\n",
    "x_test = get_renamed_labels(x_test)\n",
    "x_test = add_bias(x_test)\n",
    "x_test = np.array(get_features(x_test))"
   ]
  },
  {
   "cell_type": "code",
   "execution_count": 6,
   "id": "8be6ff54",
   "metadata": {},
   "outputs": [],
   "source": [
    "y_train = np.where( y_train > 0, 1, -1 )\n",
    "y_test = np.where( y_test > 0, 1, -1 )"
   ]
  },
  {
   "cell_type": "raw",
   "id": "312f689c",
   "metadata": {},
   "source": [
    "def mini_batch_GD(alpha,i):\n",
    "    alphaAVG =  alpha[i] + (1 - y_train[i] * (x_train[i].dot(w_SDCM) + b_SDCM)) / normSq[i]\n",
    "    x_AVG = x_train[i]\n",
    "    y_AVG = y[i]\n",
    "    alpha_AVG = alpha[i]\n",
    "    w_tmp = 0\n",
    "    b_tmp = 0\n",
    "    for(j in range(i,i+batch_size)):\n",
    "        alpha[j] =  alpha[j] + (1 - y_train[j] * (x_train[j].dot(w_SDCM) + b_SDCM)) / normSq[j]\n",
    "        w_tmp = (newAlphai - alpha[i]) * y_train[i] * x\n",
    "        \n",
    "    alphaAVG = alphaAVG/batch_size\n",
    "    x_AVG = np.divide(x_AVG,batch_size)\n",
    "    y_AVG = np.divide(y_AVG,batch_size)\n",
    "    alpha_AVG = alpha_AVG/batch_size\n",
    "    \n",
    "    if alphaAVG > C:\n",
    "        newAlphai = C\n",
    "    if alphaAVG < 0:\n",
    "        newAlphai = 0\n",
    "        \n",
    "    w_SDCM = w_SDCM - (alphaAVG - alpha_AVG) * y_AVG * x_AVG\n",
    "    b_SDCM = b_SDCM + (alphaAVG - alpha_AVG) * y_AVG\n",
    "\n",
    "def solver():\n",
    "    objValSeries = []\n",
    "    timeSeries = []\n",
    "    totTime = 0\n",
    "    \n",
    "    alpha = init\n",
    "    i = 0\n",
    "    for it in range( horizon ):\n",
    "        tic = t.perf_counter()\n",
    "        if(i>x_train.shape[0]):\n",
    "            i=0\n",
    "        alphaAVG = mini_batch_GD(alpha,i)\n",
    "        for j in range(i,i+batch_size):\n",
    "            alpha[i] = alphaAVG\n",
    "        i+=batch_size\n",
    "            \n",
    "\n",
    "        toc = t.perf_counter()\n",
    "        totTime = totTime + (toc - tic)\n",
    "        \n",
    "        objValSeries.append( objFunc( alpha ) )\n",
    "        timeSeries.append( totTime )\n",
    "        \n",
    "    return (alpha, objValSeries, timeSeries)\n",
    "\n",
    "def solver():\n",
    "    for i in range(epochs):\n",
    "        randperm = np.random.permutation(y_train.size)\n",
    "        j = randperm[0]\n",
    "        x = x_train[i,:]\n",
    "        y = y_train[i]\n",
    "        if 1-y*x*w_SDCM <= 0:\n",
    "            gradient = w_SDCM\n",
    "        else:\n",
    "            gradient = w-C*x*y\n",
    "        w = w-learning_rate*gradient\n",
    "        \n",
    "        \n",
    "    \n",
    "    "
   ]
  },
  {
   "cell_type": "code",
   "execution_count": 7,
   "id": "eb870e0f",
   "metadata": {},
   "outputs": [],
   "source": [
    "def solver(epochs):\n",
    "    global w,b,eta\n",
    "    for i in range(epochs):\n",
    "        #randperm = np.random.permutation(y_train.size)\n",
    "        #j = random.randrange(0,y_train.shape[0] - 1)\n",
    "        j = i%(x_train.shape[0])\n",
    "        x = x_train[j,:]\n",
    "        y = y_train[j]\n",
    "        if 1 - np.multiply(x.dot(w),y) <= 0:\n",
    "            gradient = w\n",
    "        else:\n",
    "            gradient = w-C*x*y\n",
    "        learning_rate = stepLengthGenerator('linear',eta)(i+1)\n",
    "        w = w-learning_rate*gradient\n",
    "        #b = b-learning_rate*gradient\n",
    "        \n",
    "def mySVM( X ):\n",
    "    return X.dot(w)\n",
    "\n",
    "def stepLengthGenerator( mode, eta ):\n",
    "    if mode == \"constant\":\n",
    "        return lambda t: eta\n",
    "    elif mode == \"linear\":\n",
    "        return lambda t: eta/(t+1)\n",
    "    elif mode == \"quadratic\":\n",
    "        return lambda t: eta/np.sqrt(t+1)"
   ]
  },
  {
   "cell_type": "code",
   "execution_count": 8,
   "id": "27804750",
   "metadata": {},
   "outputs": [],
   "source": [
    "eta = 0.5\n",
    "C = 5\n",
    "w = np.ones(  x_train.shape[1] )\n",
    "#solver(0.0005,100000)\n",
    "solver(10000)\n",
    "\n"
   ]
  },
  {
   "cell_type": "code",
   "execution_count": 9,
   "id": "53b4154c",
   "metadata": {
    "scrolled": false
   },
   "outputs": [
    {
     "name": "stdout",
     "output_type": "stream",
     "text": [
      "0.94335\n"
     ]
    }
   ],
   "source": [
    "y_pred = mySVM( x_test )\n",
    "\n",
    "y_pred = np.where( y_pred > 0, 1, -1 )\n",
    "\n",
    "print( np.average( y_test == y_pred ) )"
   ]
  },
  {
   "cell_type": "code",
   "execution_count": 10,
   "id": "8839436f",
   "metadata": {},
   "outputs": [],
   "source": [
    "data = np.loadtxt('secret_test.dat')\n",
    "x_secret_test = data[:,:-1]\n",
    "y_secret_test = data[:,-1]"
   ]
  },
  {
   "cell_type": "code",
   "execution_count": 11,
   "id": "1280ed06",
   "metadata": {},
   "outputs": [],
   "source": [
    "x_secret_test = get_renamed_labels(x_secret_test)\n",
    "x_secret_test = add_bias(x_secret_test)\n",
    "x_secret_test = np.array(get_features(x_secret_test))"
   ]
  },
  {
   "cell_type": "code",
   "execution_count": 12,
   "id": "288df4de",
   "metadata": {},
   "outputs": [],
   "source": [
    "y_secret_test = np.where(y_secret_test>0,1,-1)"
   ]
  },
  {
   "cell_type": "code",
   "execution_count": 13,
   "id": "a166d86e",
   "metadata": {},
   "outputs": [
    {
     "name": "stdout",
     "output_type": "stream",
     "text": [
      "0.9411\n"
     ]
    }
   ],
   "source": [
    "y_pred = mySVM( x_secret_test )\n",
    "\n",
    "y_pred = np.where( y_pred > 0, 1, -1 )\n",
    "\n",
    "print( np.average( y_secret_test == y_pred ) )"
   ]
  },
  {
   "cell_type": "code",
   "execution_count": null,
   "id": "5b81bebc",
   "metadata": {},
   "outputs": [],
   "source": []
  }
 ],
 "metadata": {
  "kernelspec": {
   "display_name": "Python 3 (ipykernel)",
   "language": "python",
   "name": "python3"
  },
  "language_info": {
   "codemirror_mode": {
    "name": "ipython",
    "version": 3
   },
   "file_extension": ".py",
   "mimetype": "text/x-python",
   "name": "python",
   "nbconvert_exporter": "python",
   "pygments_lexer": "ipython3",
   "version": "3.10.5"
  }
 },
 "nbformat": 4,
 "nbformat_minor": 5
}
